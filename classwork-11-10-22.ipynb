{
 "cells": [
  {
   "cell_type": "markdown",
   "id": "40135abe",
   "metadata": {},
   "source": [
    "1) Print all elements of a list using for loop."
   ]
  },
  {
   "cell_type": "code",
   "execution_count": 1,
   "id": "21341e70",
   "metadata": {},
   "outputs": [
    {
     "name": "stdout",
     "output_type": "stream",
     "text": [
      "1\n",
      "Apple\n",
      "3\n",
      "27\n"
     ]
    }
   ],
   "source": [
    "\n",
    "my_list = [1, \"Apple\", 3, 27]\n",
    "for i in my_list:\n",
    "    print(i)"
   ]
  },
  {
   "cell_type": "markdown",
   "id": "0f5d911d",
   "metadata": {},
   "source": [
    "2) Using range(1,101), make two list, one containing all even numbers and other containing all odd numbers."
   ]
  },
  {
   "cell_type": "code",
   "execution_count": 5,
   "id": "22ca9cc7",
   "metadata": {},
   "outputs": [
    {
     "name": "stdout",
     "output_type": "stream",
     "text": [
      "Even numbers:  [2, 4, 6, 8, 10, 12, 14, 16, 18, 20, 22, 24, 26, 28, 30, 32, 34, 36, 38, 40, 42, 44, 46, 48, 50, 52, 54, 56, 58, 60, 62, 64, 66, 68, 70, 72, 74, 76, 78, 80, 82, 84, 86, 88, 90, 92, 94, 96, 98, 100]\n",
      "\n",
      "\n",
      "Odd numbers:  [1, 3, 5, 7, 9, 11, 13, 15, 17, 19, 21, 23, 25, 27, 29, 31, 33, 35, 37, 39, 41, 43, 45, 47, 49, 51, 53, 55, 57, 59, 61, 63, 65, 67, 69, 71, 73, 75, 77, 79, 81, 83, 85, 87, 89, 91, 93, 95, 97, 99]\n"
     ]
    }
   ],
   "source": [
    "\n",
    "even_list = []\n",
    "odd_list = []\n",
    "for i in range(1,101):\n",
    "    if i%2 == 0:\n",
    "        even_list.append(i)\n",
    "    else:\n",
    "        odd_list.append(i)\n",
    "\n",
    "print(\"Even numbers: \", even_list)\n",
    "print(\"\\n\")\n",
    "print(\"Odd numbers: \", odd_list)"
   ]
  },
  {
   "cell_type": "markdown",
   "id": "a98e5265",
   "metadata": {},
   "source": [
    "3) A company decided to give bonus of 5% to employee if his/her year of service is more than 5 years. Ask user for their salary and year of service and print the net bonus amount.\n"
   ]
  },
  {
   "cell_type": "code",
   "execution_count": 30,
   "id": "30684a27",
   "metadata": {},
   "outputs": [
    {
     "name": "stdout",
     "output_type": "stream",
     "text": [
      "Enter your salary: 7\n",
      "How many years have you been in service: 9\n",
      "Net Bonus Amount:  0.35000000000000003\n"
     ]
    }
   ],
   "source": [
    "#Ask user for salary and year of service\n",
    "\n",
    "while True:\n",
    "    salary = input(\"Enter your salary: \")\n",
    "    yos = input(\"How many years have you been in service: \")\n",
    "    bonus = 0\n",
    "    \n",
    "    #try if user enetered valid numbers\n",
    "    try:\n",
    "        salary = float(salary)\n",
    "        yos = float(yos)\n",
    "        if yos > 5:\n",
    "            bonus = 0.05*salary\n",
    "        net_bonus = bonus\n",
    "        print(\"Net Bonus Amount: \", bonus)\n",
    "        break\n",
    "        \n",
    "    except:\n",
    "        print(\"Error! Enter valid salary/year of service\")\n",
    "        continue\n",
    "    \n",
    "\n",
    "    "
   ]
  },
  {
   "cell_type": "markdown",
   "id": "c2e95271",
   "metadata": {},
   "source": [
    "4) Take input of age of 3 people by user and determine oldest and youngest among them.\n"
   ]
  },
  {
   "cell_type": "code",
   "execution_count": 32,
   "id": "63df1746",
   "metadata": {},
   "outputs": [
    {
     "name": "stdout",
     "output_type": "stream",
     "text": [
      "Enter first person's age: 65\n",
      "Enter second person's age: 8\n",
      "Enter third person's age: 90\n",
      "Youngest is 8 years\n",
      "Oldest is 90 years\n"
     ]
    }
   ],
   "source": [
    "# Take input of ages\n",
    "age_list = []\n",
    "age1 = int(input(\"Enter first person's age: \"))\n",
    "age_list.append(age1)\n",
    "\n",
    "age2 = int(input(\"Enter second person's age: \"))\n",
    "age_list.append(age2)\n",
    "\n",
    "age3 = int(input(\"Enter third person's age: \"))\n",
    "age_list.append(age3)\n",
    "\n",
    "youngest = min(age_list)\n",
    "oldest = max(age_list)\n",
    "\n",
    "print(\"Youngest is\", youngest, \"years\")\n",
    "print(\"Oldest is\", oldest, \"years\")\n",
    "\n",
    "\n"
   ]
  },
  {
   "cell_type": "markdown",
   "id": "ab79ff5d",
   "metadata": {},
   "source": [
    "5) A school has following rules for grading system:  \n",
    "a. Below 25 -F  \n",
    "b. 25 to 45 -E  \n",
    "c. 45 to 50 -D  \n",
    "d. 50 to 60 -C  \n",
    "e. 60 to 80 -B  \n",
    "f. Above 80 -A  \n",
    "Ask user to enter marks and print the corresponding grade."
   ]
  },
  {
   "cell_type": "code",
   "execution_count": 47,
   "id": "4ac48e78",
   "metadata": {},
   "outputs": [
    {
     "name": "stdout",
     "output_type": "stream",
     "text": [
      "Enter your mark: 90\n",
      "Your grade is: A\n"
     ]
    }
   ],
   "source": [
    "#Collect mark from user\n",
    "mark = float(input(\"Enter your mark: \"))\n",
    "\n",
    "if mark < 25:\n",
    "    grade = \"F\"\n",
    "elif mark < 45:\n",
    "    grade = \"E\"\n",
    "elif mark < 50:\n",
    "    grade = \"D\"\n",
    "elif mark < 60:\n",
    "    grade = \"C\"\n",
    "elif mark < 80:\n",
    "    grade = \"B\"\n",
    "else:\n",
    "    grade = \"A\"\n",
    "\n",
    "print(\"Your grade is:\", grade)"
   ]
  },
  {
   "cell_type": "markdown",
   "id": "d8f444f7",
   "metadata": {},
   "source": [
    "6) Write a Python script to merge two Python dictionaries"
   ]
  },
  {
   "cell_type": "code",
   "execution_count": 36,
   "id": "17141e17",
   "metadata": {},
   "outputs": [
    {
     "name": "stdout",
     "output_type": "stream",
     "text": [
      "{'Lagos': 'Ikeja', 'Ogun': 'Abeokuta', 'Osun': 'Osogbo', 'Delta': 'Asaba', 'Bayelsa': 'Yenogoa', 'Benue': 'Makurdi'}\n"
     ]
    }
   ],
   "source": [
    "dict1 = {\"Lagos\": \"Ikeja\", \"Ogun\": \"Abeokuta\", \"Osun\": \"Osogbo\"}\n",
    "dict2 = {\"Delta\": \"Asaba\", \"Bayelsa\": \"Yenogoa\", \"Benue\": \"Makurdi\"}\n",
    "#merge dict1 and dict2\n",
    "\n",
    "dict3 = {**dict1, **dict2}\n",
    "print(dict3)"
   ]
  },
  {
   "cell_type": "markdown",
   "id": "abd833c0",
   "metadata": {},
   "source": [
    "\n",
    "7) Write a Python program to remove a key from a dictionary.\n"
   ]
  },
  {
   "cell_type": "code",
   "execution_count": 37,
   "id": "762775e9",
   "metadata": {},
   "outputs": [
    {
     "name": "stdout",
     "output_type": "stream",
     "text": [
      "{'Lagos': 'Ikeja', 'Ogun': 'Abeokuta', 'Delta': 'Asaba', 'Bayelsa': 'Yenogoa', 'Benue': 'Makurdi'}\n"
     ]
    }
   ],
   "source": [
    "my_dict = {'Lagos': 'Ikeja', 'Ogun': 'Abeokuta', 'Osun': 'Osogbo', 'Delta': 'Asaba', 'Bayelsa': 'Yenogoa', 'Benue': 'Makurdi'}\n",
    "del my_dict[\"Osun\"]\n",
    "print(my_dict)"
   ]
  },
  {
   "cell_type": "markdown",
   "id": "b0515df2",
   "metadata": {},
   "source": [
    "8) Write a Python program to get the largest number from a list"
   ]
  },
  {
   "cell_type": "code",
   "execution_count": 44,
   "id": "4918e7d2",
   "metadata": {},
   "outputs": [
    {
     "name": "stdout",
     "output_type": "stream",
     "text": [
      "90\n"
     ]
    }
   ],
   "source": [
    "a_list = [1,4,5,3,90,54,6,10]\n",
    "\n",
    "highest = a_list[0]\n",
    "for i in a_list:\n",
    "    if i > highest:\n",
    "        highest = i\n",
    "        \n",
    "print(highest)\n",
    "        "
   ]
  },
  {
   "cell_type": "code",
   "execution_count": null,
   "id": "d14f5b34",
   "metadata": {},
   "outputs": [],
   "source": []
  }
 ],
 "metadata": {
  "kernelspec": {
   "display_name": "Python 3 (ipykernel)",
   "language": "python",
   "name": "python3"
  },
  "language_info": {
   "codemirror_mode": {
    "name": "ipython",
    "version": 3
   },
   "file_extension": ".py",
   "mimetype": "text/x-python",
   "name": "python",
   "nbconvert_exporter": "python",
   "pygments_lexer": "ipython3",
   "version": "3.9.12"
  }
 },
 "nbformat": 4,
 "nbformat_minor": 5
}
